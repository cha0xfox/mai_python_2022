{
 "cells": [
  {
   "cell_type": "code",
   "execution_count": 2,
   "id": "2ce8a785-b84c-491b-8b1d-3a0af6e73438",
   "metadata": {},
   "outputs": [],
   "source": [
    "import json"
   ]
  },
  {
   "cell_type": "markdown",
   "id": "7d6721b4-a262-40af-8dcd-117b891aa6b0",
   "metadata": {},
   "source": [
    "Напоминание: вам понадобится материал лекций:\n",
    "3 - Списки и кортежи\n",
    "4 - Словари и множества\n",
    "7 и 8 - Классы\n",
    "9 - Работа с файлами\n",
    "---\n",
    "ЗАДАНИЕ 1: Работа с файлами\n",
    "\n",
    "TODO 1-1\n",
    " Прочитайте данные из файла pilot_path.json (лекция 9)"
   ]
  },
  {
   "cell_type": "code",
   "execution_count": 3,
   "id": "d45aa37c-8588-4456-83e2-0def9f843596",
   "metadata": {},
   "outputs": [],
   "source": [
    "f = open('pilot_path.json')\n",
    "data = json.load(f)"
   ]
  },
  {
   "cell_type": "markdown",
   "id": "937f149d-cb49-4869-aee2-db74a41e485f",
   "metadata": {},
   "source": [
    "---\n",
    "ЗАДАНИЕ 2: Расчет статистик\n",
    "\n",
    "TODO 2-1) Подсчитайте, сколько миссий налетал каждый пилот. Выведите результат в порядке убывания миссий\n",
    "ИНФОРМАЦИЯ:\n",
    "структура данных в файле: {\"имя_пилота\": \"список_миссий\":[миссия1, ...]]\n",
    "структура одной миссии: {\"drone\":\"модель_дрона\", \"mission\":[список точек миссии]}\n",
    "у пилотов неодинаковое количество миссий (и миссии могут быть разной длины). у каждой миссии - произвольная модель дрона"
   ]
  },
  {
   "cell_type": "code",
   "execution_count": 5,
   "id": "e3c2fdd5-936f-4697-acee-184c37d7a3ea",
   "metadata": {},
   "outputs": [
    {
     "data": {
      "text/plain": [
       "dict_keys(['pilot9', 'pilot3', 'pilot5', 'pilot6', 'pilot7', 'pilot1', 'pilot2', 'pilot8', 'pilot4'])"
      ]
     },
     "execution_count": 5,
     "metadata": {},
     "output_type": "execute_result"
    }
   ],
   "source": [
    "data.keys()\n",
    "# print(len(data['missions'][0]['mission']))"
   ]
  },
  {
   "cell_type": "code",
   "execution_count": 14,
   "id": "685a96e5-f3ed-4f34-9a38-3ac8f1b77bcc",
   "metadata": {},
   "outputs": [
    {
     "name": "stdout",
     "output_type": "stream",
     "text": [
      "Пилоты в порядке убывания количества миссий: {'pilot3': 6, 'pilot8': 6, 'pilot6': 5, 'pilot2': 5, 'pilot7': 4, 'pilot9': 3, 'pilot5': 3, 'pilot4': 2, 'pilot1': 1}\n"
     ]
    }
   ],
   "source": [
    "missionlist={}\n",
    "for p in data.keys():\n",
    "\tmissionlist[p] = (len(data[p]['missions']))\n",
    "print(f\"Пилоты в порядке убывания количества миссий: {dict(sorted(missionlist.items(), key=lambda item: item[1], reverse=True))}\")"
   ]
  },
  {
   "cell_type": "markdown",
   "id": "3b872a37-afc0-4d0f-887e-37becb99ef72",
   "metadata": {},
   "source": [
    "---\n",
    "TODO 2-2) Получите и выведите список всех моделей дронов, которые были в файле pilot_path.json\n",
    "Подсказка: внутри print используйте str.join(), чтобы соединить элементы списка (множества)"
   ]
  },
  {
   "cell_type": "code",
   "execution_count": 156,
   "id": "1f29dd97-382b-4c4e-80eb-60e126d31ac0",
   "metadata": {},
   "outputs": [
    {
     "name": "stdout",
     "output_type": "stream",
     "text": [
      "pilot9\n",
      "pilot3\n",
      "pilot5\n",
      "pilot6\n",
      "pilot7\n",
      "pilot1\n",
      "pilot2\n",
      "pilot8\n",
      "pilot4\n"
     ]
    }
   ],
   "source": [
    "drone_list = []\n",
    "for p in data.keys():\n",
    "    print(p)\n",
    "    for x in data[p]['missions']:\n",
    "        drone_list.append(x['drone'])"
   ]
  },
  {
   "cell_type": "code",
   "execution_count": 155,
   "id": "8e0aa16a-a4d0-4c81-9b83-2eb94fccaa85",
   "metadata": {},
   "outputs": [
    {
     "name": "stdout",
     "output_type": "stream",
     "text": [
      "Полеты совершались на дронах следующих моделей: DJI Mavic 2 Pro, DJI Mavic 2 Enterprise Advanced, DJI Mavic 2 Zoom, DJI Mavic 3, DJI Inspire 2\n"
     ]
    }
   ],
   "source": [
    "print(f'Полеты совершались на дронах следующих моделей: {\", \".join(set(drone_list))}')"
   ]
  },
  {
   "cell_type": "markdown",
   "id": "b214b11e-c9a6-4b66-8216-e731de84d7ca",
   "metadata": {},
   "source": [
    "---\n",
    "TODO 2-3) Получите список миссий для каждой модели дронов, которые были в файле pilot_path.json,\n",
    "и выведите на экран модель дрона и количество миссий, которые он отлетал"
   ]
  },
  {
   "cell_type": "code",
   "execution_count": 154,
   "id": "769c5165-e7ac-4677-81e1-a4014353a27e",
   "metadata": {},
   "outputs": [
    {
     "name": "stdout",
     "output_type": "stream",
     "text": [
      "Дрон DJI Mavic 2 Pro отлетал 6 миссий\n",
      "Дрон DJI Mavic 2 Enterprise Advanced отлетал 10 миссий\n",
      "Дрон DJI Mavic 2 Zoom отлетал 9 миссий\n",
      "Дрон DJI Mavic 3 отлетал 4 миссий\n",
      "Дрон DJI Inspire 2 отлетал 6 миссий\n"
     ]
    }
   ],
   "source": [
    "for x in set(drone_list):\n",
    "    print(f'Дрон {x} отлетал {drone_list.count(x)} миссий')"
   ]
  },
  {
   "cell_type": "markdown",
   "id": "4388d643-0de0-45f2-9519-e96aa0aec0f4",
   "metadata": {},
   "source": [
    "---\n",
    "ЗАДАНИЕ 3: Создание классов\n",
    "\n",
    "Для вас уже написаны заготовки классов Aircraft и UAV\n",
    "\n",
    "TODO 3-1) Добавьте в класс UAV защищенный атрибут _=_missions (тип - список списков [[], []]), куда вы будете сохранять все миссии, которые отлетал беспилотник\n",
    "\n",
    "TODO 3-2) При помощи декоратора @property сделайте возможность чтения и записи миссий в этот атрибут (лекция 8)\n",
    "\n",
    "TODO 3-3) Создайте в классе UAV публичный метод count_missions, который возвращает количество миссий (лекция 7)\n",
    "\n",
    "TODO 3-4) Создайте класс MultirotorUAV - наследник классов Aircraft и UAV (лекция 7)"
   ]
  },
  {
   "cell_type": "code",
   "execution_count": 125,
   "id": "9c4818d5-da5c-4fa6-b7ba-914bc1eedd32",
   "metadata": {},
   "outputs": [],
   "source": [
    "class Aircraft:\n",
    "    def __init__(self, weight):\n",
    "        self._weight = weight\n",
    "        \n",
    "class UAV:\n",
    "    def __init__(self):\n",
    "        self._has_autopilot = True\n",
    "        self._missions = []\n",
    "        \n",
    "    @property\n",
    "    def missions(self):\n",
    "        return self._missions\n",
    "    \n",
    "    @missions.setter\n",
    "    def missions(self, lst):\n",
    "        self._missions.append(lst)\n",
    "        \n",
    "    def count_missions(self):\n",
    "        return len(self._missions)"
   ]
  },
  {
   "cell_type": "code",
   "execution_count": 134,
   "id": "3c311a1e-8c59-463e-ac0c-72ca7591912b",
   "metadata": {},
   "outputs": [],
   "source": [
    "class MultirotorUAV(Aircraft, UAV):\n",
    "    def __init__(self, weight, model, brand):\n",
    "        super().__init__(weight)\n",
    "        UAV.__init__(self)\n",
    "        self.__weight = weight\n",
    "        self.__model = model\n",
    "        self.__brand = brand\n",
    "        \n",
    "    def get_info(self):\n",
    "        return f'Информация: {self.get_model()}: масса {self.__weight}, производитель {self.__brand}, количество миссий {self.count_missions()}'\n",
    "    \n",
    "    def get_model(self):\n",
    "        return self.__model"
   ]
  },
  {
   "cell_type": "code",
   "execution_count": 127,
   "id": "0c6f01a9-2f31-4c50-9688-608414274a5e",
   "metadata": {},
   "outputs": [],
   "source": [
    "drone_catalog = {\n",
    "\t\"DJI Mavic 2 Pro\": {\"weight\":903, \"brand\":\"DJI\"},\n",
    "\t\"DJI Mavic 2 Zoom\": {\"weight\":900, \"brand\":\"DJI\"},\n",
    "\t\"DJI Mavic 2 Enterprise Advanced\": {\"weight\":920, \"brand\":\"DJI\"},\n",
    "\t\"DJI Inspire 2\": {\"weight\":1500, \"brand\":\"DJI\"},\n",
    "\t\"DJI Mavic 3\": {\"weight\":1000, \"brand\":\"DJI\"}\n",
    "}"
   ]
  },
  {
   "cell_type": "markdown",
   "id": "fcac8892-5515-4442-97b8-59f5767dab9f",
   "metadata": {},
   "source": [
    "---\n",
    "ЗАДАНИЕ 4: Работа с экземплярами классов\n",
    "\n",
    "TODO 4-1) Создайте экземпляры класса MultirotorUAV для всех моделей дронов, которые были в файле pilot_path.json\n",
    "\n",
    "Подсказка: созданные экземпляры класса MultirotorUAV сохраните в список для последующего использования\n",
    "\n",
    "TODO 4-2) При создании каждого экземпляра задайте ему как приватные атрибуты массу и производителя из справочника дронов drone_catalog в соответствии с моделью дрона\n",
    "\n",
    "TODO 4-3) А также добавьте ему миссии, найденные для этой модели дрона на шаге 2-3\n",
    "Напоминание: миссии находятся в атрибуте missions (с декоратором, и поэтому он публично доступен) в классе UAV"
   ]
  },
  {
   "cell_type": "code",
   "execution_count": 136,
   "id": "021b1ec3-6c19-4e47-9f02-2b33ce3b271a",
   "metadata": {},
   "outputs": [],
   "source": [
    "classes = []\n",
    "for x in data:\n",
    "    for mission in data[x]['missions']:\n",
    "        model = mission['drone']\n",
    "        y = MultirotorUAV(drone_catalog[model]['weight'],model,drone_catalog[model]['brand'])\n",
    "        for z in mission['mission']:\n",
    "            y.missions = z\n",
    "            # print(z)\n",
    "        classes.append(y)"
   ]
  },
  {
   "cell_type": "markdown",
   "id": "6e71c37b-746b-4b20-a4a2-743459d66f0b",
   "metadata": {},
   "source": [
    "TODO 4-4\n",
    "Напишите код, который выводит информацию по заданной модели дрона. Состав информации: масса, производитель, количество отлетанных миссий\n",
    "(название модели пользователь вводит с клавиатуры в любом регистре, но без опечаток)\n",
    "Подсказка: для этого вам необходимо вернуться в ЗАДАНИЕ 3 и добавить в класс два публичных метода: get_info(), который выводит нужную информацию,\n",
    "и get_model, который позволит получить название модели дрона"
   ]
  },
  {
   "cell_type": "code",
   "execution_count": 137,
   "id": "b6263c79-f2f5-44fa-bbea-d988b535f402",
   "metadata": {},
   "outputs": [
    {
     "name": "stdin",
     "output_type": "stream",
     "text": [
      "Model:  DJI Mavic 2 Pro\n"
     ]
    },
    {
     "name": "stdout",
     "output_type": "stream",
     "text": [
      "Информация: DJI Mavic 2 Pro: масса 903, производитель DJI, количество миссий 2\n"
     ]
    }
   ],
   "source": [
    "inpt = input(\"Model: \")\n",
    "for x in classes:\n",
    "    if x.get_model().lower() == inpt.lower():\n",
    "        print(x.get_info())\n",
    "        break"
   ]
  }
 ],
 "metadata": {
  "kernelspec": {
   "display_name": "Python 3 (ipykernel)",
   "language": "python",
   "name": "python3"
  },
  "language_info": {
   "codemirror_mode": {
    "name": "ipython",
    "version": 3
   },
   "file_extension": ".py",
   "mimetype": "text/x-python",
   "name": "python",
   "nbconvert_exporter": "python",
   "pygments_lexer": "ipython3",
   "version": "3.9.13"
  }
 },
 "nbformat": 4,
 "nbformat_minor": 5
}
