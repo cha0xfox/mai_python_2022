{
 "cells": [
  {
   "cell_type": "code",
   "execution_count": 1,
   "id": "8ea60b02-7b5c-4ee0-9ddf-4e5054a3ec46",
   "metadata": {},
   "outputs": [],
   "source": [
    "import json\n",
    "import csv\n",
    "import re"
   ]
  },
  {
   "cell_type": "markdown",
   "id": "a0a0e9d1-638d-4f2b-af6d-952be4c5f942",
   "metadata": {},
   "source": [
    "---\n",
    "ЗАДАНИЕ 1: Классы - декораторы\n",
    "\n",
    "TODO 1-1 - Добавить атрибут incidents типа список\n",
    "Возьмите код из предыдущего ДЗ\n",
    "Добавьте в класс MultirotorUAV атрибут incidents и внесите туда информацию обо всех найденных происшествиях для этой модели\n",
    "Не забудьте, что атрибут добавляется при помощи декоратора"
   ]
  },
  {
   "cell_type": "code",
   "execution_count": 2,
   "id": "f0546f29-17e6-4a82-8eb1-809101416377",
   "metadata": {},
   "outputs": [],
   "source": [
    "f = open('pilot_path.json')\n",
    "data = json.load(f)"
   ]
  },
  {
   "cell_type": "code",
   "execution_count": 3,
   "id": "1ea2282b-bea4-4fc1-855b-0e6b6476a667",
   "metadata": {},
   "outputs": [],
   "source": [
    "class Aircraft:\n",
    "    def __init__(self, weight):\n",
    "        self._weight = weight\n",
    "        \n",
    "class UAV:\n",
    "    def __init__(self):\n",
    "        self._has_autopilot = True\n",
    "        self._missions = []\n",
    "        \n",
    "    @property\n",
    "    def missions(self):\n",
    "        return self._missions\n",
    "    \n",
    "    @missions.setter\n",
    "    def missions(self, lst):\n",
    "        self._missions.append(lst)\n",
    "        \n",
    "    def count_missions(self):\n",
    "        return len(self._missions)"
   ]
  },
  {
   "cell_type": "code",
   "execution_count": 4,
   "id": "74d31903-88fd-4b2f-a904-31fe679f7b90",
   "metadata": {},
   "outputs": [],
   "source": [
    "class MultirotorUAV(Aircraft, UAV):\n",
    "    def __init__(self, weight, model, brand):\n",
    "        super().__init__(weight)\n",
    "        UAV.__init__(self)\n",
    "        self.__weight = weight\n",
    "        self.__model = model\n",
    "        self.__brand = brand\n",
    "        self.__incidents = []\n",
    "        \n",
    "    @property\n",
    "    def incidents(self):\n",
    "        return self.__incidents\n",
    "    \n",
    "    @incidents.setter\n",
    "    def incidents(self, lst):\n",
    "        self.__incidents.append(lst)\n",
    "        \n",
    "    def get_info(self):\n",
    "        return f'Информация: {self.get_model()}: масса {self.__weight}, производитель {self.__brand}, количество миссий {self.count_missions()}'\n",
    "    \n",
    "    def get_model(self):\n",
    "        return self.__model\n",
    "\n",
    "    def save_data(self):\n",
    "        data = {\n",
    "                    \"model\" : self.get_model(),\n",
    "                    \"mass\" : self.__weight,\n",
    "                    \"manufacturer\" : self.__brand,\n",
    "                    \"missions\" : [],\n",
    "                    \"incidents\" : []\n",
    "                }\n",
    "        for x in self._missions:\n",
    "            data['missions'].append(x)\n",
    "        for x in self.__incidents:\n",
    "            data['incidents'].append(x)\n",
    "        with open(f'MultirotorUAV_{self.get_model()}.json', 'w') as f:\n",
    "            json.dump(data, f)\n",
    "\n",
    "        "
   ]
  },
  {
   "cell_type": "code",
   "execution_count": 5,
   "id": "60d14fa8-ffd5-4352-86f5-31aa5c849c2e",
   "metadata": {},
   "outputs": [],
   "source": [
    "drone_catalog = {\n",
    "\t\"DJI Mavic 2 Pro\": {\"weight\":903, \"brand\":\"DJI\"},\n",
    "\t\"DJI Mavic 2 Zoom\": {\"weight\":900, \"brand\":\"DJI\"},\n",
    "\t\"DJI Mavic 2 Enterprise Advanced\": {\"weight\":920, \"brand\":\"DJI\"},\n",
    "\t\"DJI Inspire 2\": {\"weight\":1500, \"brand\":\"DJI\"},\n",
    "\t\"DJI Mavic 3\": {\"weight\":1000, \"brand\":\"DJI\"}\n",
    "}"
   ]
  },
  {
   "cell_type": "code",
   "execution_count": 6,
   "id": "7919f1a9-5a0c-48a1-ba90-72af26f03176",
   "metadata": {},
   "outputs": [],
   "source": [
    "classes = []\n",
    "for x in drone_catalog:\n",
    "    x = MultirotorUAV(drone_catalog[x]['weight'], x, drone_catalog[x]['brand'])\n",
    "    for p in data:\n",
    "        for mission in data[p]['missions']:\n",
    "            if x.get_model() == mission['drone']:\n",
    "                # print(mission['mission'])\n",
    "                x.missions = mission['mission']\n",
    "    classes.append(x)"
   ]
  },
  {
   "cell_type": "code",
   "execution_count": 7,
   "id": "fa03aab3-0fed-4e2c-bbd3-8e52f48658c6",
   "metadata": {},
   "outputs": [
    {
     "name": "stdout",
     "output_type": "stream",
     "text": [
      "Информация: DJI Mavic 2 Enterprise Advanced: масса 920, производитель DJI, количество миссий 10\n"
     ]
    }
   ],
   "source": [
    "# inpt = input(\"Model: \")\n",
    "inpt = \"DJI Mavic 2 Enterprise Advanced\"\n",
    "for x in classes:\n",
    "    if x.get_model().lower() == inpt.lower():\n",
    "        print(x.get_info())\n",
    "        # print(x.missions)\n",
    "        x.save_data()\n",
    "        break"
   ]
  },
  {
   "cell_type": "markdown",
   "id": "fde56377-0be8-4419-9132-c8701045fc3c",
   "metadata": {},
   "source": [
    "---\n",
    "ЗАДАНИЕ 2: Файлы - CSV\n",
    "\n",
    "TODO 2-1 - Загрузите информацию об авиапроисшествиях из файла csv\n",
    "Проверьте по моделям (названия моделей возьмите из экземпляров класса MultirotorUAV), какие из них участвовали в авиапроисшествиях"
   ]
  },
  {
   "cell_type": "code",
   "execution_count": 8,
   "id": "fc45358c-7c3d-45c2-8b55-82baea038c13",
   "metadata": {},
   "outputs": [
    {
     "name": "stdout",
     "output_type": "stream",
     "text": [
      "Column names are Data Source, Report Number, Local Date, City, State, Airport Name, Event Type, Mid Air Collision, Aircraft Damage, Registration Nbr, Total Aboard, Fatalities, Injuries, Details\n",
      "\t25-MAY-20\t 20200525021299I\n",
      "\t18-JUN-20\t 20200618021121I\n",
      "\t12-JUL-20\t 20200712021399I\n",
      "\t15-JUL-20\t 20200715021179I\n",
      "\t17-SEP-20\t 20200917021049I\n",
      "\t29-SEP-20\t 20200929021099I\n",
      "\t06-NOV-20\t 20201106021599I\n",
      "\t27-JAN-21\t 20210127003039I\n",
      "\t11-JUL-21\t 20210711004119I\n",
      "\t07-MAR-19\t 20190307024399I\n",
      "\t28-MAR-21\t 20210328003091I\n",
      "\t03-SEP-21\t 20210903016239I\n",
      "\t29-JUN-19\t 20190629024639I\n",
      "\t04-JUL-19\t 20190704024279I\n",
      "\t12-JUL-19\t 20190712024609I\n",
      "\t30-JAN-20\t 20200130003529I\n",
      "\t08-FEB-20\t 20200208021149I\n",
      "\t15-FEB-20\t 20200215021279I\n",
      "\t21-SEP-19\t 20190921024289I\n",
      "\t30-SEP-19\t 20190930024379I\n",
      "Processed 21 lines.\n"
     ]
    }
   ],
   "source": [
    "with open('faa_incidents.csv', mode='r') as csv_file:\n",
    "    csv_reader = csv.DictReader(csv_file)\n",
    "    line_count = 0\n",
    "    for row in csv_reader:\n",
    "        if line_count == 0:\n",
    "            print(f'Column names are {\", \".join(row)}')\n",
    "            line_count += 1\n",
    "        print(f'\\t{row[\"Local Date\"]}\\t {row[\"Report Number\"]}')\n",
    "        line_count += 1\n",
    "    print(f'Processed {line_count} lines.')"
   ]
  },
  {
   "cell_type": "code",
   "execution_count": 9,
   "id": "a9932381-8430-4493-bc86-7fc09006b115",
   "metadata": {},
   "outputs": [
    {
     "data": {
      "text/plain": [
       "20"
      ]
     },
     "execution_count": 9,
     "metadata": {},
     "output_type": "execute_result"
    }
   ],
   "source": [
    "csv_details = []\n",
    "with open('faa_incidents.csv', mode='r') as csv_file:\n",
    "    csv_reader = csv.DictReader(csv_file, delimiter=',')\n",
    "    for row in csv_reader:\n",
    "        details = row[\"Details\"]\n",
    "        csv_details.append(row[\"Details\"])\n",
    "        \n",
    "len(csv_details)"
   ]
  },
  {
   "cell_type": "markdown",
   "id": "6ac1128c-d28a-4666-bab9-505236360eb6",
   "metadata": {},
   "source": [
    "Почему-то строка ниже есть в примере, но нет в самой csv, может и я проглядел."
   ]
  },
  {
   "cell_type": "code",
   "execution_count": 10,
   "id": "8a285380-62dc-48db-b290-ae13aac87a07",
   "metadata": {},
   "outputs": [],
   "source": [
    "csv_details.append('''ON JULY 15, 2020 AT 1050 EDT, A DJI, MAVIC 2 ZOOM L1Z UAS, SERIAL # 0M6TG85R0A04ZP, UA FA REGISTRATION # FA3RE7RNWP, REGISTERED TO ^PRIVACY DATA OMITTED^ (PIC), REMOTE PILOT CERTIFICATE ^PRIVACY DATA OMITTED^, LOST CONTROLLED FLIGHT IN THE AREA OF ^PRIVACY DATA OMITTED^ AND HIT A BLACK NISSAN PICKUP TRUCK BEARING ^PRIVACY DATA OMITTED^ TRAVELING ALONG TAMIAMI TRAIL IN NORTH PORT CAUSING PROPERTY DAMAGE. THE UAS WAS FLOWN ON A RECREATIONAL FLIGHT OVER A CONSTRUCTION SITE AT ^PRIVACY DATA OMITTED^, USING AN AUTOMATIC FREQUENCY SELECTION FEATURE THAT RANGED FROM 2.400 - 2.4835 GHZ; 5.725 - 5.850 GHZ. WEATHER CONDITIONS WERE CLEAR AND ARE NOT CONSIDERED A FACTOR. THE UAS WAS DESTROYED AND THE PROPERTY DAMAGE WAS GREATER THAN $500. THERE WERE NO PERSONAL INJURIES. THE FLIGHT ORIGINATED FROM ^PRIVACY DATA OMITTED^, EARLIER THAT DAY. WHILE THIS INCIDENT MEETS FAA UAS ACCIDENT CRITERIA, IT DOES NOT MEET THE NTSB?S UAS ACCIDENT CRITERIA. THE NTSB WOULD NOT ISSUE A NTSB ACCIDENT NUMBER FOR THIS EVENT. THEREFORE, THIS EVENT WILL BE CLASSIFIED AN INCIDENT.''')"
   ]
  },
  {
   "cell_type": "markdown",
   "id": "a2a5422e-07de-42e0-a65f-f24f7c0bf283",
   "metadata": {},
   "source": [
    "\n",
    "ЗАДАНИЕ 4: Регулярные выражения\n",
    "\n",
    "TODO 4-1 - Выведите на экран собранную информацию по инцидентам по каждому дрону в таком виде:\n",
    "модель: инцидентов - количество\n",
    "1 - краткий текст инцидента*\n",
    "полный текст инцидента\n",
    "* - краткий текст инцидента получайте следующим образом: в исходном тексте инцидента найдите модель, например, INSPIRE 2,\n",
    "и выведите все предложения, в которых встречается упоминание этой модели\n",
    "\n",
    "Подсказка 1: Полностью готовый код есть в лекции про регулярные выражения (пример про перелетных птиц).\n",
    "\n",
    "Ваши изменения: а) вставить вместо \"зим\" название модели дрона, б) поменять язык поиска на английский\n",
    "\n",
    "Подсказка 2: не забывайте использовать флаг re.I для игнорирования регистра символов\n",
    "\n",
    "Подсказка 3: перед тем, как искать, уберите из названия модели название производителя\n",
    "\n",
    "Подсказка 4: лучше не используйте re.compile. Для этого случая работает не очень"
   ]
  },
  {
   "cell_type": "code",
   "execution_count": 11,
   "id": "f0059b6e-1aea-4047-bba4-a966ebfc712e",
   "metadata": {},
   "outputs": [
    {
     "name": "stdout",
     "output_type": "stream",
     "text": [
      "incidents for : Mavic 2 Pro\n",
      "\t pattern: re.compile('\\\\bMavic 2 Pro\\\\b', re.IGNORECASE|re.MULTILINE)\n",
      "Count: 0\n",
      "[]\n",
      "incidents for : Mavic 2 Zoom\n",
      "\t pattern: re.compile('\\\\bMavic 2 Zoom\\\\b', re.IGNORECASE|re.MULTILINE)\n",
      "Count: 1\n",
      "['ON JULY 15, 2020 AT 1050 EDT, A DJI, MAVIC 2 ZOOM L1Z UAS, SERIAL # 0M6TG85R0A04ZP, UA FA REGISTRATION # FA3RE7RNWP, REGISTERED TO ^PRIVACY DATA OMITTED^ (PIC), REMOTE PILOT CERTIFICATE ^PRIVACY DATA OMITTED^, LOST CONTROLLED FLIGHT IN THE AREA OF ^PRIVACY DATA OMITTED^ AND HIT A BLACK NISSAN PICKUP TRUCK BEARING ^PRIVACY DATA OMITTED^ TRAVELING ALONG TAMIAMI TRAIL IN NORTH PORT CAUSING PROPERTY DAMAGE. THE UAS WAS FLOWN ON A RECREATIONAL FLIGHT OVER A CONSTRUCTION SITE AT ^PRIVACY DATA OMITTED^, USING AN AUTOMATIC FREQUENCY SELECTION FEATURE THAT RANGED FROM 2.400 - 2.4835 GHZ; 5.725 - 5.850 GHZ. WEATHER CONDITIONS WERE CLEAR AND ARE NOT CONSIDERED A FACTOR. THE UAS WAS DESTROYED AND THE PROPERTY DAMAGE WAS GREATER THAN $500. THERE WERE NO PERSONAL INJURIES. THE FLIGHT ORIGINATED FROM ^PRIVACY DATA OMITTED^, EARLIER THAT DAY. WHILE THIS INCIDENT MEETS FAA UAS ACCIDENT CRITERIA, IT DOES NOT MEET THE NTSB?S UAS ACCIDENT CRITERIA. THE NTSB WOULD NOT ISSUE A NTSB ACCIDENT NUMBER FOR THIS EVENT. THEREFORE, THIS EVENT WILL BE CLASSIFIED AN INCIDENT.']\n",
      "incidents for : Mavic 2 Enterprise Advanced\n",
      "\t pattern: re.compile('\\\\bMavic 2 Enterprise Advanced\\\\b', re.IGNORECASE|re.MULTILINE)\n",
      "Count: 0\n",
      "[]\n",
      "incidents for : Inspire 2\n",
      "\t pattern: re.compile('\\\\bInspire 2\\\\b', re.IGNORECASE|re.MULTILINE)\n",
      "Count: 3\n",
      "['ON MAY 25, 2020, MOJAVE AIR AND SPACE PORT (KMHV) AIR TRAFFIC CONTROL TOWER (ATCT) PROVIDED VERBAL AUTHORIZATION TO ^PRIVACY DATA OMITTED^ TO PERFORM SUAS OPERATIONS IN KMHV CLASS D AIRSPACE. WIND SPEED WAS 7 KNOTS WITH GUSTS AT 14 KNOTS. WIND DIRECTION 060. ^PRIVACY DATA OMITTED^. AND KMHV HAVE A LETTER OF AGREEMENT (LOA) EFFECTIVE JANUARY 28, 2020 FOR SUAS OPERATIONS IN KMHV CLASS D AIRSPACE. ^PRIVACY DATA OMITTED^ HOLDS A CURRENT CERTIFICATE OF WAIVER OR AUTHORIZATION EFFECTIVE FROM JANUARY 31, 2019 TO SEPTEMBER 30, 2020 TO PERFORM SMALL UNMANNED AIRCRAFT SYTEM (SUAS) OPERATIONS IN CLASS D AIRSPACE AT KMHV. ^PRIVACY DATA OMITTED^ HOLDS A CURRENT REMOTE PILOT CERTIFICATE WITH A SUAS RATING ^PRIVACY DATA OMITTED^. REMOTE PILOT IN COMMAND (RPIC), ^PRIVACY DATA OMITTED^ WAS OPERATING UNDER PART 107 AT KMHV COVERING SURVEILLANCE OF THE VIRGIN ORBIT LAUNCHER ONE MISSION. RPIC WAS OPERATING A DJI INSPIRE 2 WITH A CAMERA/GIMBLE COMBINATION SET UP. DJI INSPIRE 2 (SN 09YDDCQL040384) CURRENT FAA SUAS REGISTRATION NUMBER FA343FTPWM. REGISTERED TO ^PRIVACY DATA OMITTED^. RPIC WAS OPERATING WITH ONE INEXPERIENCED VISUAL OBSERVER (VO). RPIC WAS NOT ACCUSTOMED TO OPERATING THE SMALL UNMANNED AIRCRAFT CONTROLS, MANIPULATING THE CAMERA/GIMBLE COMBINATION SET UP, AND COMMUNICATING TO ATCT VIA RADIO SIMULTANEOUSLY. RPIC WAS ALSO WORKING WITH AN INEXPERIENCED VO. RPIC BECAME TASK SATURATED AND LOST SIGHT OF THE SMALL UNMANNED AIRCRAFT. AT 1208 LOCAL TIME, THE SMALL UNMANNED AIRCRAFT STRUCK THE WEST SIDE OF KMHV ATCT. ^PRIVACY DATA OMITTED^ SUSTAINED A SUPERFICIAL HORIZONTAL LACERATION TO HIS RIGHT LOWER, INSIDE FOREARM. HE WAS TREATED ON-SCENE WITH BANDAGE AND GAUZE WRAP.', 'UAS PILOT ^PRIVACY DATA OMITTED^ REMOTE CERTIFICATE #^PRIVACY DATA OMITTED^ WAS HIRED BY PRODUCER ^PRIVACY DATA OMITTED^ TO DO SOME AERIAL SHOTS OF EL MORRO FOR A DOCUMENTARY ABOUT THE 500 YEARS OF THE CITY OF SAN JUAN ON SEPTEMBER 3RD. USED RENTED DJI INSPIRE 2 DRONE. LOST CONTROL LINK WITH DRONE ON WAY BACK CRASHED INTO EL MORRO FORT IN OLD SAN JUAN.', 'AIRCRAFT IS A DJI T650A INSPIRE 2 SUAS, SERIAL # 0A0LG2J107005, REGISTRATION # FA3FTYCLFE. FREQUENCY USED IS UNKNOWN. THE AIRCRAFT HAS TWO FREQUENCIES AVAILABLE, 2.4 AND 5.8 GHZ, BUT THE PIC DOESN\\'T REMEMBER WHICH ONE WAS IN USE DURING THE FLIGHT. PIC IS ^PRIVACY DATA OMITTED^, CERTIFICATE ^PRIVACY DATA OMITTED^. ^PRIVACY DATA OMITTED^ SAID THAT THE UAS EXPERIENCED AN ERROR ON ITS FIRST CALIBRATION ATTEMPT PRIOR TO LAUNCH BUT CALIBRATED CORRECTLY ON THE SECOND ATTEMPT AND THE FLIGHT CONTINUED AFTER RECORDING THE HOME POINT AT THE LAUNCH POSITION. HE SAID THE UAS WAS IN POSITIONING MODE (P-MODE) FOR THE ENTIRE FLIGHT. THE LANDING SEQUENCE WAS INITIATED MANUALLY (I.E. THE AUTOLAND FEATURE WAS NOT USED). ^PRIVACY DATA OMITTED^ SAID THAT THE UAS \"TOOK OFF\" WHEN IT GOT DOWN TO ABOUT 5\\' AGL AND FLEW INSIDE THE CPD HANGAR WHERE IT STRUCK A CPD HELICOPTER. HE SAID THAT THE UAS ACTED AS IF IT WAS \"PRE-PROGRAMMED\" TO FLY INTO THE HANGAR ONCE IT GOT AWAY FROM HIM.']\n",
      "incidents for : Mavic 3\n",
      "\t pattern: re.compile('\\\\bMavic 3\\\\b', re.IGNORECASE|re.MULTILINE)\n",
      "Count: 0\n",
      "[]\n"
     ]
    }
   ],
   "source": [
    "for drone_cls in classes:\n",
    "    drone = drone_cls.get_model()\n",
    "    drone = drone.split(\" \",1)[1]\n",
    "    # drone = drone.split(\" \")\n",
    "    print(f'incidents for : {drone}')\n",
    "    # r = re.compile(fr'\\b{drone}(?:\\s+\\S+){0,2}\\s+{drone}\\b', flags=re.I | re.M)\n",
    "    # r = re.compile(r'(('+'(?:\\s+){0,2}'.join(drone)+')([a-zA-Z/ ]*))', flags=re.I | re.M)\n",
    "    r = re.compile(fr'\\b{drone}\\b', flags=re.I | re.M)\n",
    "    print(f'\\t pattern: {r}')\n",
    "    count = 0\n",
    "    for row in csv_details:\n",
    "        details = row\n",
    "        if isinstance(details, str):\n",
    "                result = r.search(details) \n",
    "                if result is not None:\n",
    "                    count += 1\n",
    "                    drone_cls.incidents = row\n",
    "    print(f'Count: {count}')\n",
    "    print(drone_cls.incidents)\n",
    "    drone_cls.save_data()"
   ]
  },
  {
   "cell_type": "markdown",
   "id": "48d4c1d7-f1db-4fce-ae0d-b9556615098a",
   "metadata": {},
   "source": [
    "Собственно сохранение было выше."
   ]
  }
 ],
 "metadata": {
  "kernelspec": {
   "display_name": "Python 3 (ipykernel)",
   "language": "python",
   "name": "python3"
  },
  "language_info": {
   "codemirror_mode": {
    "name": "ipython",
    "version": 3
   },
   "file_extension": ".py",
   "mimetype": "text/x-python",
   "name": "python",
   "nbconvert_exporter": "python",
   "pygments_lexer": "ipython3",
   "version": "3.9.13"
  },
  "toc-autonumbering": true
 },
 "nbformat": 4,
 "nbformat_minor": 5
}
