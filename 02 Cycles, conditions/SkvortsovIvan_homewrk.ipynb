{
 "cells": [
  {
   "cell_type": "markdown",
   "metadata": {},
   "source": [
    "## Домашние задания к лекциям 1 и 2\n",
    "Скворцов Иван\n",
    "\n",
    "М8О-107-22"
   ]
  },
  {
   "cell_type": "code",
   "execution_count": 2,
   "metadata": {},
   "outputs": [
    {
     "name": "stdout",
     "output_type": "stream",
     "text": [
      "['DJI Mavic 2 Pro', 'DJI Mavic 2 Zoom', 'DJI Mavic 2 Enterprise Advanced', 'AUTEL Evo II Pro', 'DJI Mini 2', 'Autel Evo Nano', 'Autel Evo Lite Plus', 'Parrot Anafi', 'Dji Inspire 2', 'DJI Mavic 3', 'DJI Mavic Air2s', 'Ryze Tello', 'Eachine Trashcan']\n"
     ]
    }
   ],
   "source": [
    "drone_list = [\"DJI Mavic 2 Pro\", \"DJI Mavic 2 Zoom\", \"DJI Mavic 2 Enterprise Advanced\", \"AUTEL Evo II Pro\", \"DJI Mini 2\", \"Autel Evo Nano\", \"Autel Evo Lite Plus\", \"Parrot Anafi\", \"Dji Inspire 2\", \"DJI Mavic 3\", \"DJI Mavic Air2s\", \"Ryze Tello\", \"Eachine Trashcan\"]\n",
    "print(drone_list)"
   ]
  },
  {
   "cell_type": "code",
   "execution_count": 3,
   "metadata": {},
   "outputs": [
    {
     "name": "stdout",
     "output_type": "stream",
     "text": [
      "DJI Mavic 2 Pro\n",
      "DJI Mavic 2 Zoom\n",
      "DJI Mavic 2 Enterprise Advanced\n",
      "AUTEL Evo II Pro\n",
      "DJI Mini 2\n",
      "Autel Evo Nano\n",
      "Autel Evo Lite Plus\n",
      "Parrot Anafi\n",
      "Dji Inspire 2\n",
      "DJI Mavic 3\n",
      "DJI Mavic Air2s\n",
      "Ryze Tello\n",
      "Eachine Trashcan\n"
     ]
    }
   ],
   "source": [
    "for drone in drone_list:\n",
    "\tprint(drone)"
   ]
  },
  {
   "cell_type": "markdown",
   "metadata": {},
   "source": [
    "# TODO1\n",
    "Выведите все дроны производителя, название которого введет пользователь через input, и подсчитайте их количество. \n",
    "учтите, что:\n",
    "1) DJI и Dji - это один и тот же производитель! такие случаи тоже должны обрабатываться\n",
    "2) при выводе исправьте название производителя, если допущена ошибка. правильный вариант названия: DJI, Autel"
   ]
  },
  {
   "cell_type": "code",
   "execution_count": 11,
   "metadata": {},
   "outputs": [
    {
     "name": "stdout",
     "output_type": "stream",
     "text": [
      "Autel Evo II Pro\n",
      "Autel Evo Nano\n",
      "Autel Evo Lite Plus\n",
      "Count:  3\n"
     ]
    }
   ],
   "source": [
    "userInput = input()\n",
    "count = 0\n",
    "for drone in drone_list:\n",
    "    if drone.split(\" \")[0].upper() == userInput.upper():\n",
    "        if drone.split(\" \")[0].upper() == \"DJI\":\n",
    "            count += 1\n",
    "            print(str(drone.split(\" \")[0].upper()) + str(drone[3::]))\n",
    "        elif drone.split(\" \")[0].upper() == \"AUTEL\":\n",
    "            count += 1\n",
    "            print(str(drone.split(\" \")[0].lower()).capitalize() + str(drone[5::]))\n",
    "        else:\n",
    "            count += 1\n",
    "            print(drone)\n",
    "print(\"Count: \", count)"
   ]
  },
  {
   "cell_type": "markdown",
   "metadata": {},
   "source": [
    "# TODO2\n",
    "Подсчитайте количество моделей дронов каждого производителя из списка drone_list. производители: DJI, Autel, Parrot, Ryze, Eachine"
   ]
  },
  {
   "cell_type": "code",
   "execution_count": 5,
   "metadata": {},
   "outputs": [
    {
     "name": "stdout",
     "output_type": "stream",
     "text": [
      "DJI :  7\n",
      "Autel :  3\n",
      "Parrot :  1\n",
      "Ryze :  1\n",
      "Eachine :  1\n"
     ]
    }
   ],
   "source": [
    "for x, drone in enumerate(drone_list):\n",
    "    drone_list[x] = drone.split(\" \")[0].upper()\n",
    "\n",
    "names = [\"DJI\", \"Autel\", \"Parrot\", \"Ryze\", \"Eachine\"]\n",
    "\n",
    "for name in names:\n",
    "    print(name,\": \",drone_list.count(name.upper()))\n"
   ]
  },
  {
   "cell_type": "markdown",
   "metadata": {},
   "source": [
    "# TODO3\n",
    "выведите все дроны из списка, которые нужно регистрировать (масса больше 150 г), и подсчитайте их количество. \n",
    "сделайте то же самое для всех дронов, которые не нужно регистрировать\n",
    "для этого вам нужно параллельно обрабатывать два списка: drone_list и drone_weight_list:\n",
    "как работает zip, мы разберем на лекции про списки. пока что просто пользуйтесь"
   ]
  },
  {
   "cell_type": "code",
   "execution_count": 6,
   "metadata": {},
   "outputs": [
    {
     "name": "stdout",
     "output_type": "stream",
     "text": [
      "Need registration:  DJI Mavic 2 Pro | 903\n",
      "Need registration:  DJI Mavic 2 Zoom | 900\n",
      "Need registration:  DJI Mavic 2 Enterprise Advanced | 920\n",
      "Need registration:  AUTEL Evo II Pro | 980\n",
      "Need registration:  DJI Mini 2 | 249\n",
      "Need registration:  Autel Evo Nano | 249\n",
      "Need registration:  Autel Evo Lite Plus | 600\n",
      "Need registration:  Parrot Anafi | 540\n",
      "Need registration:  Dji Inspire 2 | 1500\n",
      "Need registration:  DJI Mavic 3 | 1000\n",
      "Need registration:  DJI Mavic Air2s | 570\n",
      "Doesn't need registration:  Ryze Tello | 130\n",
      "Doesn't need registration:  Eachine Trashcan | 110\n"
     ]
    }
   ],
   "source": [
    "drone_list = [\"DJI Mavic 2 Pro\", \"DJI Mavic 2 Zoom\", \"DJI Mavic 2 Enterprise Advanced\", \"AUTEL Evo II Pro\", \"DJI Mini 2\", \"Autel Evo Nano\", \"Autel Evo Lite Plus\", \"Parrot Anafi\", \"Dji Inspire 2\", \"DJI Mavic 3\", \"DJI Mavic Air2s\", \"Ryze Tello\", \"Eachine Trashcan\"]\n",
    "\n",
    "drone_weight_list = [903, 900, 920, 980, 249, 249, 600, 540, 1500, 1000, 570, 130, 110]\n",
    "\n",
    "for drone, weight in zip(drone_list,  drone_weight_list):\n",
    "\tif weight > 150:\n",
    "\t\tprint(\"Need registration: \", drone,\"|\", weight)\n",
    "\telif weight <= 150:\n",
    "\t\tprint(\"Doesn't need registration: \",drone, \"|\", weight)"
   ]
  },
  {
   "cell_type": "markdown",
   "metadata": {},
   "source": [
    "# TODO4\n",
    "для каждого дрона из списка выведите, нудно ли согласовывать полет при следующих условиях:\n",
    "высота 100 м, полет над населенным пунктом, вне закрытых зон, в прямой видимости\n",
    "помните, что для дронов тяжелее 150 г согласовывать полет над населенным пунктом - обязательно!"
   ]
  },
  {
   "cell_type": "markdown",
   "metadata": {},
   "source": [
    "Возможно я немного не понял задание, но кажется что дополнительных данных на которые можно опереться при рассмотрении нужно ли иметь согласованный полет кроме веса дрона нет в задаче, потому решение тоже что и выше."
   ]
  },
  {
   "cell_type": "code",
   "execution_count": 7,
   "metadata": {},
   "outputs": [
    {
     "name": "stdout",
     "output_type": "stream",
     "text": [
      "Need flight clearance:  DJI Mavic 2 Pro | 903\n",
      "Need flight clearance:  DJI Mavic 2 Zoom | 900\n",
      "Need flight clearance:  DJI Mavic 2 Enterprise Advanced | 920\n",
      "Need flight clearance:  AUTEL Evo II Pro | 980\n",
      "Need flight clearance:  DJI Mini 2 | 249\n",
      "Need flight clearance:  Autel Evo Nano | 249\n",
      "Need flight clearance:  Autel Evo Lite Plus | 600\n",
      "Need flight clearance:  Parrot Anafi | 540\n",
      "Need flight clearance:  Dji Inspire 2 | 1500\n",
      "Need flight clearance:  DJI Mavic 3 | 1000\n",
      "Need flight clearance:  DJI Mavic Air2s | 570\n",
      "Doesn't need flight clearance:  Ryze Tello | 130\n",
      "Doesn't need flight clearance:  Eachine Trashcan | 110\n"
     ]
    }
   ],
   "source": [
    "for drone, weight in zip(drone_list,  drone_weight_list):\n",
    "\tif weight > 150:\n",
    "\t\tprint(\"Need flight clearance: \", drone,\"|\", weight)\n",
    "\telif weight <= 150:\n",
    "\t\tprint(\"Doesn't need flight clearance: \",drone, \"|\", weight)"
   ]
  },
  {
   "cell_type": "markdown",
   "metadata": {},
   "source": [
    "# TODO5*\n",
    "модифицируйте решение задания TODO1:\n",
    "теперь для введенного пользователем производителя вы должны вывести строку, содержащую перечисление моделей и БЕЗ названия производителя.\n",
    "например, пользователь ввел \"Autel\". ваша программа должна вывести вот такой результат: \"Evo II Pro, Evo Nano, Evo Lite Plus\". для этого вам понадобится несколько функций работы со строками. решить эту задачу можно несколькими разными способами\n",
    "производители те же: DJI, Autel, Parrot, Ryze, Eachine"
   ]
  },
  {
   "cell_type": "code",
   "execution_count": 13,
   "metadata": {},
   "outputs": [
    {
     "name": "stdout",
     "output_type": "stream",
     "text": [
      " Mavic 2 Pro\n",
      " Mavic 2 Zoom\n",
      " Mavic 2 Enterprise Advanced\n",
      " Mini 2\n",
      " Inspire 2\n",
      " Mavic 3\n",
      " Mavic Air2s\n",
      "Count:  7\n"
     ]
    }
   ],
   "source": [
    "userInput = input()\n",
    "count = 0\n",
    "for drone in drone_list:\n",
    "    if drone.split(\" \")[0].upper() == userInput.upper():\n",
    "        if drone.split(\" \")[0].upper() == \"DJI\":\n",
    "            count += 1\n",
    "            print(drone[len(userInput)::])\n",
    "        elif drone.split(\" \")[0].upper() == \"AUTEL\":\n",
    "            count += 1\n",
    "            print(drone[len(userInput)::])\n",
    "        else:\n",
    "            count += 1\n",
    "            print(drone[len(userInput)::])\n",
    "print(\"Count: \", count)"
   ]
  }
 ],
 "metadata": {
  "kernelspec": {
   "display_name": "Python 3.10.6 64-bit",
   "language": "python",
   "name": "python3"
  },
  "language_info": {
   "codemirror_mode": {
    "name": "ipython",
    "version": 3
   },
   "file_extension": ".py",
   "mimetype": "text/x-python",
   "name": "python",
   "nbconvert_exporter": "python",
   "pygments_lexer": "ipython3",
   "version": "3.10.6"
  },
  "orig_nbformat": 4,
  "vscode": {
   "interpreter": {
    "hash": "b0fa6594d8f4cbf19f97940f81e996739fb7646882a419484c72d19e05852a7e"
   }
  }
 },
 "nbformat": 4,
 "nbformat_minor": 2
}
